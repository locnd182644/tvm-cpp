{
 "cells": [
  {
   "cell_type": "markdown",
   "id": "2f23aa4d",
   "metadata": {},
   "source": [
    "## Include"
   ]
  },
  {
   "cell_type": "code",
   "execution_count": null,
   "id": "f97b5f06",
   "metadata": {},
   "outputs": [],
   "source": [
    "import os\n",
    "import numpy as np\n",
    "import torch\n",
    "import onnx\n",
    "import tvm\n",
    "from tvm import relax\n",
    "from tvm.relax.frontend.onnx import from_onnx"
   ]
  },
  {
   "cell_type": "markdown",
   "id": "23545278",
   "metadata": {},
   "source": [
    "## Module"
   ]
  },
  {
   "cell_type": "code",
   "execution_count": null,
   "id": "6505b303",
   "metadata": {},
   "outputs": [],
   "source": [
    "onnx_model = onnx.load(\"vgg16_torch.onnx\")\n",
    "input_name = \"input_2\"\n",
    "input_shape = (1, 3, 32, 32)\n",
    "shape_dict = {input_name: input_shape}"
   ]
  },
  {
   "cell_type": "code",
   "execution_count": null,
   "id": "3b67505f",
   "metadata": {},
   "outputs": [],
   "source": [
    "print(\"Inputs:\")\n",
    "for inp in onnx_model.graph.input:\n",
    "    print(\" -\", inp.name)\n",
    "\n",
    "print(\"Outputs:\")\n",
    "for out in onnx_model.graph.output:\n",
    "    print(\" -\", out.name)"
   ]
  },
  {
   "cell_type": "markdown",
   "id": "2549975c",
   "metadata": {},
   "source": [
    "### Get module and params"
   ]
  },
  {
   "cell_type": "code",
   "execution_count": null,
   "id": "4fe6951a",
   "metadata": {},
   "outputs": [],
   "source": [
    "# Chuyển sang Relax IR\n",
    "mod = from_onnx(\n",
    "    onnx_model,\n",
    "    shape_dict,\n",
    "    keep_params_in_input=False  # True nếu muốn weight nằm ở input\n",
    ")\n",
    "mod.show()"
   ]
  },
  {
   "cell_type": "code",
   "execution_count": null,
   "id": "e1ab6e34",
   "metadata": {},
   "outputs": [],
   "source": [
    "mod.show()"
   ]
  },
  {
   "cell_type": "code",
   "execution_count": null,
   "id": "4266df34",
   "metadata": {},
   "outputs": [],
   "source": [
    "mod: tvm.IRModule = relax.transform.LegalizeOps()(mod)\n",
    "mod.show()"
   ]
  },
  {
   "cell_type": "code",
   "execution_count": null,
   "id": "5639c232",
   "metadata": {},
   "outputs": [],
   "source": [
    "mod: tvm.IRModule = relax.get_pipeline(\"zero\")(mod)\n",
    "mod.show()"
   ]
  },
  {
   "cell_type": "markdown",
   "id": "b6acef39",
   "metadata": {},
   "source": [
    "## Architecture"
   ]
  },
  {
   "cell_type": "markdown",
   "id": "c4d6fe04",
   "metadata": {},
   "source": [
    "### CPU test"
   ]
  },
  {
   "cell_type": "code",
   "execution_count": null,
   "id": "5bd36206",
   "metadata": {},
   "outputs": [],
   "source": [
    "target = tvm.target.Target(\"llvm -mtriple=arm-none-linux-gnueabihf\")\n",
    "executable = relax.build(mod, target, exec_mode=\"compiled\")\n",
    "executable.export_library(file_name=\"libtvm_model.so\",\n",
    "                          cc=\"/root/Programming/linux/customs/test/arm-gnu-toolchain/bin/arm-none-linux-gnueabihf-g++\",\n",
    "                          options=[\"-nostdlib\", \"-shared\", \"-fPIC\"])"
   ]
  },
  {
   "cell_type": "markdown",
   "id": "949e8dca",
   "metadata": {},
   "source": [
    "### Raspberry Pi"
   ]
  },
  {
   "cell_type": "code",
   "execution_count": null,
   "id": "8fd2d43f",
   "metadata": {},
   "outputs": [],
   "source": [
    "target = tvm.target.Target(\"llvm -mtriple=aarch64-linux-gnu\")\n",
    "executable = relax.build(mod, target, exec_mode=\"compiled\")\n",
    "executable.export_library(file_name=\"libtvm_model.so\",\n",
    "                          cc=\"/root/Programming/linux/customs/aarch64-linux-gnu/bin/aarch64-linux-gnu-g++\",\n",
    "                          options=[\"-nostdlib\", \"-shared\", \"-fPIC\"])"
   ]
  },
  {
   "cell_type": "markdown",
   "id": "8cc1f175",
   "metadata": {},
   "source": [
    "### Native"
   ]
  },
  {
   "cell_type": "code",
   "execution_count": null,
   "id": "855b20f4",
   "metadata": {},
   "outputs": [],
   "source": [
    "target = tvm.target.Target(\"llvm\")\n",
    "executable = relax.build(mod, target, exec_mode=\"compiled\")\n",
    "executable.export_library(file_name=\"libtvm_model.so\",\n",
    "                          options=[\"-nostdlib\", \"-shared\", \"-fPIC\"])"
   ]
  },
  {
   "cell_type": "markdown",
   "id": "aef264af",
   "metadata": {},
   "source": [
    "### Luckfox Pico"
   ]
  },
  {
   "cell_type": "code",
   "execution_count": null,
   "id": "58019ae0",
   "metadata": {},
   "outputs": [],
   "source": [
    "target = tvm.target.Target(\"llvm -mtriple=armv7-linux-gnueabihf\")\n",
    "executable = relax.build(mod, target, exec_mode=\"compiled\")\n",
    "executable.export_library(file_name=\"libtvm_model.so\",\n",
    "                          cc=\"/home/duyloc/Programming/linux/luckfox-pico/tools/linux/toolchain/arm-rockchip830-linux-uclibcgnueabihf/bin/arm-rockchip830-linux-uclibcgnueabihf-g++\",\n",
    "                          options=[\"-nostdlib\", \"-shared\", \"-fPIC\"])"
   ]
  },
  {
   "cell_type": "markdown",
   "id": "2cb3fd21",
   "metadata": {},
   "source": [
    "### Get Data"
   ]
  },
  {
   "cell_type": "code",
   "execution_count": null,
   "id": "3befb750",
   "metadata": {},
   "outputs": [],
   "source": [
    "# from PIL import Image\n",
    "# # Input data\n",
    "# img = Image.open(\"DefectHole/Resin.bmp\").convert(\"RGB\")\n",
    "# img = img.resize((96, 96))\n",
    "# img_np  = np.array(img).astype(\"float32\")"
   ]
  },
  {
   "cell_type": "code",
   "execution_count": null,
   "id": "3de8426e",
   "metadata": {},
   "outputs": [],
   "source": [
    "from PIL import Image\n",
    "# Input data\n",
    "img = Image.open(\"images/car.jpg\").convert(\"RGB\")\n",
    "img = img.resize((32, 32))\n",
    "img_np  = np.array(img).astype(\"float32\")\n",
    "img_np = img_np/255"
   ]
  },
  {
   "cell_type": "code",
   "execution_count": null,
   "id": "7fd785b0",
   "metadata": {},
   "outputs": [],
   "source": [
    "# Chuyển sang dạng NCHW (batch=1)\n",
    "img_np = np.transpose(img_np, (2, 0, 1))  # (C, H, W)\n",
    "cpu_data = np.expand_dims(img_np, 0)        # (1, C, H, W)"
   ]
  },
  {
   "cell_type": "code",
   "execution_count": null,
   "id": "0fb438ab",
   "metadata": {},
   "outputs": [],
   "source": [
    "if not os.path.exists(\"data\"):\n",
    "    os.makedirs(\"data\")"
   ]
  },
  {
   "cell_type": "code",
   "execution_count": null,
   "id": "51220d34",
   "metadata": {},
   "outputs": [],
   "source": [
    "cpu_data.tofile(\"data/car.bin\")"
   ]
  },
  {
   "cell_type": "markdown",
   "id": "dd75025c",
   "metadata": {},
   "source": [
    "## Run native"
   ]
  },
  {
   "cell_type": "code",
   "execution_count": null,
   "id": "cdfe0319",
   "metadata": {},
   "outputs": [],
   "source": [
    "dev = tvm.cpu()"
   ]
  },
  {
   "cell_type": "markdown",
   "id": "b00a5bea",
   "metadata": {},
   "source": [
    "### Load model and weights"
   ]
  },
  {
   "cell_type": "code",
   "execution_count": null,
   "id": "fbdf4792",
   "metadata": {},
   "outputs": [],
   "source": [
    "# executable: tvm.runtime.Module = tvm.runtime.load_module(\"libtvm_model.so\")"
   ]
  },
  {
   "cell_type": "code",
   "execution_count": null,
   "id": "031c9966",
   "metadata": {},
   "outputs": [],
   "source": [
    "# cpu_data = np.fromfile('your_structured_binary_file.bin', dtype='f4')"
   ]
  },
  {
   "cell_type": "markdown",
   "id": "c608e07a",
   "metadata": {},
   "source": [
    "### Read data from file txt"
   ]
  },
  {
   "cell_type": "code",
   "execution_count": null,
   "id": "1e5e74ec",
   "metadata": {},
   "outputs": [],
   "source": [
    "# import numpy as np\n",
    "\n",
    "# # Đọc dữ liệu từ file\n",
    "# with open(\"../../researches/Unprocess.txt\", \"r\") as f:\n",
    "#     data = f.read().strip().split()\n",
    "\n",
    "# # Chuyển thành mảng numpy kiểu int\n",
    "# arr = np.array(data, dtype=np.float32)\n",
    "\n",
    "# # Reshape về (1, 96, 96, 3)\n",
    "# cpu_data = arr.reshape((1, 96, 96, 3))\n",
    "\n",
    "# print(cpu_data.shape)   # (1, 96, 96, 3)"
   ]
  },
  {
   "cell_type": "code",
   "execution_count": null,
   "id": "6f2bb527",
   "metadata": {},
   "outputs": [],
   "source": [
    "cpu_data = tvm.nd.array(cpu_data, dev)"
   ]
  },
  {
   "cell_type": "code",
   "execution_count": null,
   "id": "2891d82d",
   "metadata": {},
   "outputs": [],
   "source": [
    "cpu_data"
   ]
  },
  {
   "cell_type": "code",
   "execution_count": null,
   "id": "e6dadc37",
   "metadata": {},
   "outputs": [],
   "source": [
    "vm = relax.VirtualMachine(executable, dev)\n",
    "cpu_out = vm[\"main\"](cpu_data)"
   ]
  },
  {
   "cell_type": "code",
   "execution_count": null,
   "id": "dc04f376",
   "metadata": {},
   "outputs": [],
   "source": [
    "cpu_out"
   ]
  },
  {
   "cell_type": "code",
   "execution_count": null,
   "id": "583faf83",
   "metadata": {},
   "outputs": [],
   "source": [
    "with open(\"imagenet_classes.txt\") as f:\n",
    "    labels = [line.strip() for line in f]"
   ]
  },
  {
   "cell_type": "code",
   "execution_count": null,
   "id": "abff2687",
   "metadata": {},
   "outputs": [],
   "source": [
    "scores = cpu_out.numpy().reshape(-1)\n",
    "# Lấy class có xác suất cao nhất\n",
    "pred_class = int(np.argmax(scores))\n",
    "confidence = float(scores[pred_class])\n",
    "\n",
    "print(f\"Predicted index: {pred_class}\")\n",
    "print(f\"Predicted label: {labels[pred_class]}\")\n",
    "print(f\"Confidence: {confidence:.4f}\")"
   ]
  }
 ],
 "metadata": {
  "kernelspec": {
   "display_name": "tvm",
   "language": "python",
   "name": "python3"
  },
  "language_info": {
   "codemirror_mode": {
    "name": "ipython",
    "version": 3
   },
   "file_extension": ".py",
   "mimetype": "text/x-python",
   "name": "python",
   "nbconvert_exporter": "python",
   "pygments_lexer": "ipython3",
   "version": "3.10.18"
  }
 },
 "nbformat": 4,
 "nbformat_minor": 5
}
