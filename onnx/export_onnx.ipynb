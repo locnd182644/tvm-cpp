{
 "cells": [
  {
   "cell_type": "code",
   "execution_count": null,
   "id": "f97b5f06",
   "metadata": {},
   "outputs": [],
   "source": [
    "import os\n",
    "import numpy as np\n",
    "import torch\n",
    "from torch.export import export\n",
    "import onnx\n",
    "import tvm\n",
    "from tvm import relax\n",
    "from tvm.relax.frontend.torch import from_exported_program\n",
    "from tvm.relax.frontend.onnx import from_onnx"
   ]
  },
  {
   "cell_type": "code",
   "execution_count": null,
   "id": "6505b303",
   "metadata": {},
   "outputs": [],
   "source": [
    "# Bước 1: Load model ONNX\n",
    "onnx_model = onnx.load(\"MobileNetV2.onnx\")\n",
    "\n",
    "# Bước 2: Chuyển sang Relay\n",
    "input_name = \"input_2\"   # Tên input trong model\n",
    "input_shape = (1, 96, 96, 3)\n",
    "shape_dict = {input_name: input_shape}"
   ]
  },
  {
   "cell_type": "code",
   "execution_count": null,
   "id": "3b67505f",
   "metadata": {},
   "outputs": [],
   "source": [
    "# In tên input/output\n",
    "print(\"Inputs:\")\n",
    "for inp in onnx_model.graph.input:\n",
    "    print(\" -\", inp.name)\n",
    "\n",
    "print(\"Outputs:\")\n",
    "for out in onnx_model.graph.output:\n",
    "    print(\" -\", out.name)"
   ]
  },
  {
   "cell_type": "code",
   "execution_count": null,
   "id": "4fe6951a",
   "metadata": {},
   "outputs": [],
   "source": [
    "# Chuyển sang Relax IR\n",
    "mod = from_onnx(\n",
    "    onnx_model,\n",
    "    shape_dict,\n",
    "    keep_params_in_input=True  # True nếu muốn weight nằm ở input\n",
    ")"
   ]
  },
  {
   "cell_type": "code",
   "execution_count": null,
   "id": "631d8692",
   "metadata": {},
   "outputs": [],
   "source": [
    "mod.show()"
   ]
  },
  {
   "cell_type": "code",
   "execution_count": null,
   "id": "4f44bba6",
   "metadata": {},
   "outputs": [],
   "source": [
    "# Nếu có file nhãn 1000 classes của ImageNet\n",
    "with open(\"imagenet_classes.txt\") as f:\n",
    "    labels = [line.strip() for line in f]"
   ]
  },
  {
   "cell_type": "code",
   "execution_count": null,
   "id": "1f77623b",
   "metadata": {},
   "outputs": [],
   "source": [
    "labels"
   ]
  },
  {
   "cell_type": "code",
   "execution_count": null,
   "id": "4266df34",
   "metadata": {},
   "outputs": [],
   "source": [
    "mod: tvm.IRModule = relax.transform.LegalizeOps()(mod)\n",
    "mod.show()"
   ]
  },
  {
   "cell_type": "code",
   "execution_count": null,
   "id": "5639c232",
   "metadata": {},
   "outputs": [],
   "source": [
    "mod: tvm.IRModule = relax.get_pipeline(\"zero\")(mod)\n",
    "mod.show()"
   ]
  },
  {
   "cell_type": "code",
   "execution_count": null,
   "id": "5bd36206",
   "metadata": {},
   "outputs": [],
   "source": [
    "target = tvm.target.Target(\"llvm -mtriple=aarch64-linux-gnu\")\n",
    "executable = relax.build(mod, target, exec_mode=\"compiled\")\n",
    "executable.export_library(file_name=\"MobileNetV2.so\",\n",
    "                          cc=\"/root/Programming/linux/customs/aarch64-linux-gnu/bin/aarch64-linux-gnu-g++\",\n",
    "                          options=[\"-nostdlib\", \"-shared\", \"-fPIC\"])"
   ]
  },
  {
   "cell_type": "code",
   "execution_count": null,
   "id": "855b20f4",
   "metadata": {},
   "outputs": [],
   "source": [
    "target = tvm.target.Target(\"llvm\")\n",
    "executable = relax.build(mod, target, exec_mode=\"compiled\")\n",
    "executable.export_library(file_name=\"MobileNetV2_native.so\",\n",
    "                          options=[\"-nostdlib\", \"-shared\", \"-fPIC\"])"
   ]
  },
  {
   "cell_type": "code",
   "execution_count": null,
   "id": "4831bbbf",
   "metadata": {},
   "outputs": [],
   "source": [
    "# from tvm.runtime import save_param_dict, NDArray\n",
    "# # params gốc từ detach_params\n",
    "# params_nd = {k: v for k, v in params.items() if isinstance(v, NDArray)}"
   ]
  },
  {
   "cell_type": "code",
   "execution_count": null,
   "id": "8c16744e",
   "metadata": {},
   "outputs": [],
   "source": [
    "# params[\"main\"][-1].shape"
   ]
  },
  {
   "cell_type": "code",
   "execution_count": null,
   "id": "473af8c7",
   "metadata": {},
   "outputs": [],
   "source": [
    "# params[\"main\"].__len__()"
   ]
  },
  {
   "cell_type": "code",
   "execution_count": null,
   "id": "a1b98866",
   "metadata": {},
   "outputs": [],
   "source": [
    "# # params trả về từ relax.frontend.detach_params(mod)\n",
    "# main_params = params[\"main\"]\n",
    "\n",
    "# # Trường hợp main_params là list/tuple → convert sang dict\n",
    "# # và lọc chỉ giữ NDArray\n",
    "# param_dict = {}\n",
    "# for i, v in enumerate(main_params):\n",
    "#     param_dict[f\"p{i}\"] = v\n",
    "\n",
    "# with open(\"vgg16_params.bin\", \"wb\") as f:\n",
    "#     f.write(save_param_dict(param_dict))"
   ]
  },
  {
   "cell_type": "markdown",
   "id": "b6f1632f",
   "metadata": {},
   "source": [
    "### Load model and weights"
   ]
  },
  {
   "cell_type": "code",
   "execution_count": null,
   "id": "3ab1226f",
   "metadata": {},
   "outputs": [],
   "source": [
    "dev = tvm.cpu()"
   ]
  },
  {
   "cell_type": "code",
   "execution_count": null,
   "id": "ac38d91c",
   "metadata": {},
   "outputs": [],
   "source": [
    "loaded_mod: tvm.runtime.Module = tvm.runtime.load_module(\"MobileNetV2_native.so\")\n",
    "vm = relax.VirtualMachine(loaded_mod, dev)"
   ]
  },
  {
   "cell_type": "code",
   "execution_count": null,
   "id": "e82a0f97",
   "metadata": {},
   "outputs": [],
   "source": [
    "# from tvm.runtime import load_param_dict\n",
    "# # Đọc file nhị phân\n",
    "# with open(\"vgg16_params.bin\", \"rb\") as f:\n",
    "#     param_bytes = f.read()\n",
    "\n",
    "# # Giải nén trọng số\n",
    "# params = load_param_dict(param_bytes)\n",
    "# cpu_params = [params[k] for k in sorted(params.keys(), key=lambda k: int(k[1:]))]\n",
    "# cpu_params.__len__()"
   ]
  },
  {
   "cell_type": "code",
   "execution_count": null,
   "id": "58cb47fb",
   "metadata": {},
   "outputs": [],
   "source": [
    "from PIL import Image"
   ]
  },
  {
   "cell_type": "code",
   "execution_count": null,
   "id": "3befb750",
   "metadata": {},
   "outputs": [],
   "source": [
    "# Input data\n",
    "img = Image.open(\"DefectHole/SizeNotEn.bmp\").convert(\"RGB\")\n",
    "img = img.resize((96, 96))\n",
    "img_np  = np.array(img).astype(\"float32\")"
   ]
  },
  {
   "cell_type": "code",
   "execution_count": null,
   "id": "7fd785b0",
   "metadata": {},
   "outputs": [],
   "source": [
    "# Chuyển sang dạng NCHW (batch=1)\n",
    "# img_np = np.transpose(img_np, (2, 0, 1))  # (C, H, W)\n",
    "cpu_data = np.expand_dims(img_np, 0)        # (1, C, H, W)"
   ]
  },
  {
   "cell_type": "code",
   "execution_count": null,
   "id": "51220d34",
   "metadata": {},
   "outputs": [],
   "source": [
    "cpu_data.tofile(\"data/SizeNotEn.bin\")"
   ]
  },
  {
   "cell_type": "code",
   "execution_count": null,
   "id": "754e9e52",
   "metadata": {},
   "outputs": [],
   "source": [
    "cpu_data = tvm.nd.array(cpu_data, dev)"
   ]
  },
  {
   "cell_type": "code",
   "execution_count": null,
   "id": "e6dadc37",
   "metadata": {},
   "outputs": [],
   "source": [
    "vm = relax.VirtualMachine(executable, dev)\n",
    "cpu_out = vm[\"main\"](cpu_data)"
   ]
  },
  {
   "cell_type": "code",
   "execution_count": null,
   "id": "abff2687",
   "metadata": {},
   "outputs": [],
   "source": [
    "scores = cpu_out.numpy().reshape(-1)\n",
    "# Lấy class có xác suất cao nhất\n",
    "pred_class = int(np.argmax(scores))\n",
    "confidence = float(scores[pred_class])\n",
    "\n",
    "print(f\"Predicted index: {pred_class}\")\n",
    "print(f\"Predicted label: {labels[pred_class]}\")\n",
    "print(f\"Confidence: {confidence:.4f}\")"
   ]
  },
  {
   "cell_type": "code",
   "execution_count": null,
   "id": "17be45cd",
   "metadata": {},
   "outputs": [],
   "source": []
  }
 ],
 "metadata": {
  "kernelspec": {
   "display_name": "tvm",
   "language": "python",
   "name": "python3"
  },
  "language_info": {
   "codemirror_mode": {
    "name": "ipython",
    "version": 3
   },
   "file_extension": ".py",
   "mimetype": "text/x-python",
   "name": "python",
   "nbconvert_exporter": "python",
   "pygments_lexer": "ipython3",
   "version": "3.10.18"
  }
 },
 "nbformat": 4,
 "nbformat_minor": 5
}
