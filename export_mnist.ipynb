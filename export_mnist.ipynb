{
 "cells": [
  {
   "cell_type": "code",
   "execution_count": null,
   "id": "8539188c",
   "metadata": {},
   "outputs": [],
   "source": [
    "import numpy as np\n",
    "import tvm\n",
    "from tvm import relax\n",
    "from tvm.contrib import utils, cc\n",
    "\n",
    "from tvm.script import ir as I\n",
    "from tvm.script import relax as R\n",
    "from tvm.script import tir as T"
   ]
  },
  {
   "cell_type": "code",
   "execution_count": null,
   "id": "e579f7bc",
   "metadata": {},
   "outputs": [],
   "source": [
    "@tvm.script.ir_module\n",
    "class MyModule:\n",
    "    @T.prim_func\n",
    "    def relu0(X: T.Buffer((1, 128), \"float32\"),\n",
    "              Y: T.Buffer((1, 128), \"float32\")):\n",
    "        # function attr dict\n",
    "        T.func_attr({\"global_symbol\": \"relu0\", \"tir.noalias\": True})\n",
    "        for i, j in T.grid(1, 128):\n",
    "            with T.block(\"Y\"):\n",
    "                vi, vj = T.axis.remap(\"SS\", [i, j])\n",
    "                Y[vi, vj] = T.max(X[vi, vj], T.float32(0))\n",
    "\n",
    "    @T.prim_func\n",
    "    def linear0(X: T.Buffer((1, 784), \"float32\"),\n",
    "                W: T.Buffer((128, 784), \"float32\"),\n",
    "                B: T.Buffer((128,), \"float32\"),\n",
    "                Z: T.Buffer((1, 128), \"float32\")):\n",
    "        T.func_attr({\"global_symbol\": \"linear0\", \"tir.noalias\": True})\n",
    "        Y = T.alloc_buffer((1, 128), \"float32\")\n",
    "        for i, j, k in T.grid(1, 128, 784):\n",
    "            with T.block(\"Y\"):\n",
    "                vi, vj, vk = T.axis.remap(\"SSR\", [i, j, k])\n",
    "                with T.init():\n",
    "                    Y[vi, vj] = T.float32(0)\n",
    "                Y[vi, vj] = Y[vi, vj] + X[vi, vk] * W[vj, vk]\n",
    "\n",
    "        for i, j in T.grid(1, 128):\n",
    "            with T.block(\"Z\"):\n",
    "                vi, vj = T.axis.remap(\"SS\", [i, j])\n",
    "                Z[vi, vj] =  Y[vi, vj] + B[vj]\n",
    "\n",
    "    @T.prim_func\n",
    "    def linear1(X: T.Buffer((1, 128), \"float32\"),\n",
    "                W: T.Buffer((10, 128), \"float32\"),\n",
    "                B: T.Buffer((10,), \"float32\"),\n",
    "                Z: T.Buffer((1, 10), \"float32\")):\n",
    "        T.func_attr({\"global_symbol\": \"linear1\", \"tir.noalias\": True})\n",
    "        Y = T.alloc_buffer((1, 10), \"float32\")\n",
    "        for i, j, k in T.grid(1, 10, 128):\n",
    "            with T.block(\"Y\"):\n",
    "                vi, vj, vk = T.axis.remap(\"SSR\", [i, j, k])\n",
    "                with T.init():\n",
    "                    Y[vi, vj] = T.float32(0)\n",
    "                Y[vi, vj] = Y[vi, vj] + X[vi, vk] * W[vj, vk]\n",
    "\n",
    "        for i, j in T.grid(1, 10):\n",
    "            with T.block(\"Z\"):\n",
    "                vi, vj = T.axis.remap(\"SS\", [i, j])\n",
    "                Z[vi, vj] = Y[vi, vj] + B[vj]\n",
    "\n",
    "    @R.function\n",
    "    def main(x: R.Tensor((1, 784), \"float32\"),\n",
    "             w0: R.Tensor((128, 784), \"float32\"),\n",
    "             b0: R.Tensor((128,), \"float32\"),\n",
    "             w1: R.Tensor((10, 128), \"float32\"),\n",
    "             b1: R.Tensor((10,), \"float32\")):\n",
    "        with R.dataflow():\n",
    "            cls = MyModule\n",
    "            lv0 = R.call_tir(cls.linear0, (x, w0, b0), out_sinfo=R.Tensor((1, 128), dtype=\"float32\"))\n",
    "            lv1 = R.call_tir(cls.relu0, (lv0,), out_sinfo=R.Tensor((1, 128), dtype=\"float32\"))\n",
    "            out = R.call_tir(cls.linear1, (lv1, w1, b1), out_sinfo=R.Tensor((1, 10), dtype=\"float32\"))\n",
    "            R.output(out)\n",
    "        return out"
   ]
  },
  {
   "cell_type": "code",
   "execution_count": null,
   "id": "98e7c69c",
   "metadata": {},
   "outputs": [],
   "source": [
    "mod = MyModule\n",
    "mod.show()"
   ]
  },
  {
   "cell_type": "code",
   "execution_count": null,
   "id": "4266df34",
   "metadata": {},
   "outputs": [],
   "source": [
    "mod: tvm.IRModule = relax.transform.LegalizeOps()(mod)\n",
    "mod.show()\n"
   ]
  },
  {
   "cell_type": "code",
   "execution_count": null,
   "id": "5bd36206",
   "metadata": {},
   "outputs": [],
   "source": [
    "mod: tvm.IRModule = relax.get_pipeline(\"zero\")(mod)\n",
    "mod.show()"
   ]
  },
  {
   "cell_type": "code",
   "execution_count": null,
   "id": "01d95313",
   "metadata": {},
   "outputs": [],
   "source": [
    "target = tvm.target.Target(\"llvm -mtriple=armv7-linux-gnueabihf\")"
   ]
  },
  {
   "cell_type": "code",
   "execution_count": null,
   "id": "9cb66dba",
   "metadata": {},
   "outputs": [],
   "source": [
    "executable = relax.build(mod, target, exec_mode=\"compiled\")\n",
    "executable.export_library(file_name=\"linear_relu_mnist.so\",\n",
    "                          cc=\"/home/duyloc/Programming/linux/luckfox-pico/tools/linux/toolchain/arm-rockchip830-linux-uclibcgnueabihf/bin/arm-rockchip830-linux-uclibcgnueabihf-g++\",\n",
    "                          options=[\"-nostdlib\", \"-shared\", \"-fPIC\"])"
   ]
  },
  {
   "cell_type": "code",
   "execution_count": null,
   "id": "ced64142",
   "metadata": {},
   "outputs": [],
   "source": [
    "import os\n",
    "directory_name = 'weights'\n",
    "try:\n",
    "    os.mkdir(directory_name)\n",
    "except FileExistsError:\n",
    "    print(f\"Directory '{directory_name}' already exists.\")\n",
    "except OSError as e: # Catch other potential OS errors\n",
    "    print(f\"Error creating directory '{directory_name}': {e}\")"
   ]
  },
  {
   "cell_type": "code",
   "execution_count": null,
   "id": "4706b3db",
   "metadata": {},
   "outputs": [],
   "source": [
    "import pickle as pkl\n",
    "mlp_params = pkl.load(open(\"fasionmnist_mlp_params.pkl\", \"rb\"))\n",
    "\n",
    "print(mlp_params[\"w0\"].shape, mlp_params[\"b0\"].shape)\n",
    "print(mlp_params[\"w1\"].shape, mlp_params[\"b1\"].shape)\n",
    "mlp_params[\"w0\"] = mlp_params[\"w0\"].astype(\"float32\")\n",
    "mlp_params[\"b0\"] = mlp_params[\"b0\"].astype(\"float32\")\n",
    "mlp_params[\"w1\"] = mlp_params[\"w1\"].astype(\"float32\")\n",
    "mlp_params[\"b1\"] = mlp_params[\"b1\"].astype(\"float32\")\n",
    "mlp_params[\"w0\"].tofile(\"weights/w0.bin\")\n",
    "mlp_params[\"b0\"].tofile(\"weights/b0.bin\")\n",
    "mlp_params[\"w1\"].tofile(\"weights/w1.bin\")\n",
    "mlp_params[\"b1\"].tofile(\"weights/b1.bin\")"
   ]
  },
  {
   "cell_type": "code",
   "execution_count": null,
   "id": "4caeca38",
   "metadata": {},
   "outputs": [],
   "source": [
    "import torchvision\n",
    "import torch\n",
    "test_data = torchvision.datasets.FashionMNIST(\n",
    "    root=\"data\",\n",
    "    train=False,\n",
    "    download=True,\n",
    "    transform=torchvision.transforms.ToTensor()\n",
    ")\n",
    "test_loader = torch.utils.data.DataLoader(test_data, batch_size=1, shuffle=True)\n",
    "class_names = ['T-shirt/top', 'Trouser', 'Pullover', 'Dress', 'Coat',\n",
    "               'Sandal', 'Shirt', 'Sneaker', 'Bag', 'Ankle boot']"
   ]
  },
  {
   "cell_type": "code",
   "execution_count": null,
   "id": "95959c00",
   "metadata": {},
   "outputs": [],
   "source": [
    "img, label = next(iter(test_loader))\n",
    "img = img.reshape(1, 28, 28).numpy()"
   ]
  },
  {
   "cell_type": "code",
   "execution_count": null,
   "id": "40cd51df",
   "metadata": {},
   "outputs": [],
   "source": [
    "import matplotlib.pyplot as plt\n",
    "\n",
    "plt.figure()\n",
    "plt.imshow(img[0])\n",
    "plt.colorbar()\n",
    "plt.grid(False)\n",
    "plt.show()\n",
    "\n",
    "print(\"Class:\", class_names[label[0]])"
   ]
  },
  {
   "cell_type": "code",
   "execution_count": null,
   "id": "2a8ae800",
   "metadata": {},
   "outputs": [],
   "source": [
    "input_img = img.reshape(1, 784)"
   ]
  },
  {
   "cell_type": "code",
   "execution_count": null,
   "id": "72beb05b",
   "metadata": {},
   "outputs": [],
   "source": [
    "input_img.tofile(\"weights/input_img.bin\")"
   ]
  }
 ],
 "metadata": {
  "kernelspec": {
   "display_name": "tvm",
   "language": "python",
   "name": "python3"
  },
  "language_info": {
   "codemirror_mode": {
    "name": "ipython",
    "version": 3
   },
   "file_extension": ".py",
   "mimetype": "text/x-python",
   "name": "python",
   "nbconvert_exporter": "python",
   "pygments_lexer": "ipython3",
   "version": "3.10.5"
  }
 },
 "nbformat": 4,
 "nbformat_minor": 5
}
